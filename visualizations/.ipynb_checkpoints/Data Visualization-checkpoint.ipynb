{
 "cells": [
  {
   "cell_type": "markdown",
   "metadata": {},
   "source": [
    "# Data Visualization\n",
    "Let's use an NFL dataset to take a look at some data visualization tools and graphs."
   ]
  },
  {
   "cell_type": "markdown",
   "metadata": {},
   "source": [
    "# Environment Setup\n",
    "## Loading Dependencies"
   ]
  },
  {
   "cell_type": "code",
   "execution_count": null,
   "metadata": {},
   "outputs": [],
   "source": [
    "import pandas as pd\n",
    "import os\n",
    "import git\n",
    "\n",
    "from pathlib import Path\n",
    "import matplotlib.pyplot as plt\n",
    "import seaborn as sns\n",
    "import folium"
   ]
  },
  {
   "cell_type": "markdown",
   "metadata": {},
   "source": [
    "## Importing our NFL Dataset"
   ]
  },
  {
   "cell_type": "code",
   "execution_count": null,
   "metadata": {},
   "outputs": [],
   "source": [
    "# Read in the data\n",
    "repo_root = Path(git.Repo(os.getcwd(), search_parent_directories=True).git.rev_parse(\"--show-toplevel\"))\n",
    "\n",
    "rosters_file = 'NFL 2018 Active Team Rosters.xlsx'\n",
    "salaries_file = 'NFL 2017 Player Salaries.xlsx'\n",
    "stadium_file = 'stadiums_nfl.csv'\n",
    "\n",
    "rosters_path = f'{repo_root}/activities/visualizations/nfl-data/{rosters_file}'\n",
    "salaries_path = f'{repo_root}/activities/visualizations/nfl-data/{salaries_file}'\n",
    "stadium_path = f'{repo_root}/activities/visualizations/nfl-data/{stadium_file}'\n",
    "\n",
    "rosters = pd.read_excel(rosters_path, index_col=None).drop(columns='ID')\n",
    "salaries = pd.read_excel(salaries_path, index_col=0).reset_index()\n",
    "stadiums = pd.read_csv(stadium_path, sep=';', usecols=['Geo Point', 'NAME', 'LATITUDE', 'LONGITUDE', 'TEAM'])"
   ]
  },
  {
   "cell_type": "code",
   "execution_count": null,
   "metadata": {},
   "outputs": [],
   "source": [
    "# Quick Data Exploration\n",
    "display(rosters.head())\n",
    "display(salaries.head())\n",
    "display(stadiums.head())"
   ]
  },
  {
   "cell_type": "markdown",
   "metadata": {},
   "source": [
    "# Plotting our Data\n",
    "Now that we have our data imported, let's give it a go and figure out how to plot our datasets."
   ]
  },
  {
   "cell_type": "markdown",
   "metadata": {},
   "source": [
    "## Rosters"
   ]
  },
  {
   "cell_type": "markdown",
   "metadata": {},
   "source": [
    "## Salaries"
   ]
  },
  {
   "cell_type": "markdown",
   "metadata": {},
   "source": [
    "## Stadiums"
   ]
  }
 ],
 "metadata": {
  "kernelspec": {
   "display_name": "Python 3",
   "language": "python",
   "name": "python3"
  },
  "language_info": {
   "codemirror_mode": {
    "name": "ipython",
    "version": 3
   },
   "file_extension": ".py",
   "mimetype": "text/x-python",
   "name": "python",
   "nbconvert_exporter": "python",
   "pygments_lexer": "ipython3",
   "version": "3.7.0"
  },
  "toc": {
   "base_numbering": 1,
   "nav_menu": {},
   "number_sections": true,
   "sideBar": true,
   "skip_h1_title": false,
   "title_cell": "Table of Contents",
   "title_sidebar": "Contents",
   "toc_cell": false,
   "toc_position": {},
   "toc_section_display": true,
   "toc_window_display": true
  }
 },
 "nbformat": 4,
 "nbformat_minor": 4
}
